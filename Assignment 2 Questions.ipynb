{
 "cells": [
  {
   "cell_type": "markdown",
   "metadata": {},
   "source": [
    "# Task 1:"
   ]
  },
  {
   "cell_type": "markdown",
   "metadata": {},
   "source": [
    "# 1.1 Write a Python Program to implement your own myreduce() function which works exactly like Python's built-in function reduce()"
   ]
  },
  {
   "cell_type": "markdown",
   "metadata": {},
   "source": [
    "Let's write a customized function which returns the product of elements in a list"
   ]
  },
  {
   "cell_type": "code",
   "execution_count": 247,
   "metadata": {},
   "outputs": [],
   "source": [
    "lst=[2,4,6]\n",
    "def myreduce(lst):\n",
    "    prod=1\n",
    "    for i in lst:\n",
    "        prod=prod*i\n",
    "    return prod"
   ]
  },
  {
   "cell_type": "code",
   "execution_count": 248,
   "metadata": {},
   "outputs": [
    {
     "data": {
      "text/plain": [
       "48"
      ]
     },
     "execution_count": 248,
     "metadata": {},
     "output_type": "execute_result"
    }
   ],
   "source": [
    "myreduce(lst)"
   ]
  },
  {
   "cell_type": "markdown",
   "metadata": {},
   "source": [
    "# 1.2 Write a Python program to implement your own myfilter() function which works exactly like Python's built-in function filter()"
   ]
  },
  {
   "cell_type": "markdown",
   "metadata": {},
   "source": [
    "Let's write a customized function which returns numbers divisible by 9 in a given list"
   ]
  },
  {
   "cell_type": "code",
   "execution_count": 249,
   "metadata": {},
   "outputs": [],
   "source": [
    "lst=[3,5,8,9,27,81,96,63,41]\n",
    "out=[]\n",
    "def myfilter(lst):\n",
    "    for i in lst:\n",
    "        if i%9 ==0:\n",
    "            out.append(i)\n",
    "    return out"
   ]
  },
  {
   "cell_type": "code",
   "execution_count": 250,
   "metadata": {},
   "outputs": [
    {
     "name": "stdout",
     "output_type": "stream",
     "text": [
      "[9, 27, 81, 63]\n"
     ]
    }
   ],
   "source": [
    "y=myfilter(lst)\n",
    "print(y)"
   ]
  },
  {
   "cell_type": "markdown",
   "metadata": {},
   "source": [
    "# 2.Implement List comprehensions to produce the following lists. Write List comprehensions to produce the following Lists"
   ]
  },
  {
   "cell_type": "markdown",
   "metadata": {},
   "source": [
    "# ['A', 'C', 'A', 'D', 'G', 'I', ’L’, ‘ D’]"
   ]
  },
  {
   "cell_type": "code",
   "execution_count": 251,
   "metadata": {},
   "outputs": [],
   "source": [
    "lst=[letter for letter in 'ACADGILD']"
   ]
  },
  {
   "cell_type": "code",
   "execution_count": 252,
   "metadata": {},
   "outputs": [
    {
     "name": "stdout",
     "output_type": "stream",
     "text": [
      "['A', 'C', 'A', 'D', 'G', 'I', 'L', 'D']\n"
     ]
    }
   ],
   "source": [
    "print(lst)"
   ]
  },
  {
   "cell_type": "markdown",
   "metadata": {},
   "source": [
    "# ['x', 'xx', 'xxx', 'xxxx', 'y', 'yy', 'yyy', 'yyyy', 'z', 'zz', 'zzz', 'zzzz']"
   ]
  },
  {
   "cell_type": "code",
   "execution_count": 253,
   "metadata": {},
   "outputs": [],
   "source": [
    "lst=[letter*i for letter in 'xyz' for i in range(1,5)]"
   ]
  },
  {
   "cell_type": "code",
   "execution_count": 254,
   "metadata": {},
   "outputs": [
    {
     "name": "stdout",
     "output_type": "stream",
     "text": [
      "['x', 'xx', 'xxx', 'xxxx', 'y', 'yy', 'yyy', 'yyyy', 'z', 'zz', 'zzz', 'zzzz']\n"
     ]
    }
   ],
   "source": [
    "print(lst)"
   ]
  },
  {
   "cell_type": "markdown",
   "metadata": {},
   "source": [
    "# ['x', 'y', 'z', 'xx', 'yy', 'zz', 'xx', 'yy', 'zz', 'xxxx', 'yyyy', 'zzzz']"
   ]
  },
  {
   "cell_type": "code",
   "execution_count": 255,
   "metadata": {},
   "outputs": [],
   "source": [
    "lst=[letter*i  for i in range(1,5) for letter in 'xyz']"
   ]
  },
  {
   "cell_type": "code",
   "execution_count": 256,
   "metadata": {},
   "outputs": [
    {
     "name": "stdout",
     "output_type": "stream",
     "text": [
      "['x', 'y', 'z', 'xx', 'yy', 'zz', 'xxx', 'yyy', 'zzz', 'xxxx', 'yyyy', 'zzzz']\n"
     ]
    }
   ],
   "source": [
    "print(lst)"
   ]
  },
  {
   "cell_type": "markdown",
   "metadata": {},
   "source": [
    "# [[2], [3], [4], [3], [4], [5], [4], [5], [6]]"
   ]
  },
  {
   "cell_type": "code",
   "execution_count": 257,
   "metadata": {},
   "outputs": [],
   "source": [
    "lst=[[digit + row] for digit in range(2,5)  for row in range(3)]"
   ]
  },
  {
   "cell_type": "code",
   "execution_count": 258,
   "metadata": {},
   "outputs": [
    {
     "name": "stdout",
     "output_type": "stream",
     "text": [
      "[[2], [3], [4], [3], [4], [5], [4], [5], [6]]\n"
     ]
    }
   ],
   "source": [
    "print(lst)"
   ]
  },
  {
   "cell_type": "markdown",
   "metadata": {},
   "source": [
    "# [[2, 3, 4, 5], [3, 4, 5, 6], [4, 5, 6, 7], [5, 6, 7, 8]]"
   ]
  },
  {
   "cell_type": "code",
   "execution_count": 259,
   "metadata": {},
   "outputs": [
    {
     "name": "stdout",
     "output_type": "stream",
     "text": [
      "[[2, 3, 4, 5], [3, 4, 5, 6], [4, 5, 6, 7], [5, 6, 7, 8]]\n"
     ]
    }
   ],
   "source": [
    "matrix = [[j+i for j in range(2,6)] for i in range(4)] \n",
    "print(matrix)"
   ]
  },
  {
   "cell_type": "markdown",
   "metadata": {},
   "source": [
    "# [(1, 1), (2, 1), (3, 1), (1, 2), (2, 2), (3, 2), (1, 3), (2, 3), (3, 3)]"
   ]
  },
  {
   "cell_type": "code",
   "execution_count": 260,
   "metadata": {},
   "outputs": [
    {
     "name": "stdout",
     "output_type": "stream",
     "text": [
      "[(1, 1), (2, 1), (3, 1), (1, 2), (2, 2), (3, 2), (1, 3), (2, 3), (3, 3)]\n"
     ]
    }
   ],
   "source": [
    "matrix = [(i,j) for j in range(1,4) for i in range(1,4)]\n",
    "print(matrix)"
   ]
  },
  {
   "cell_type": "markdown",
   "metadata": {},
   "source": [
    "# 3. Implement a function longestWord() that takes a list of words and returns the longest one."
   ]
  },
  {
   "cell_type": "markdown",
   "metadata": {},
   "source": [
    "Using list to find longest word"
   ]
  },
  {
   "cell_type": "code",
   "execution_count": 261,
   "metadata": {},
   "outputs": [],
   "source": [
    "lst=[\"Munich\",\"Berlin\",\"Stuttgart\",\"Hildesheim\"]\n",
    "def longestWord(lst):\n",
    "    lst_len=[]\n",
    "    for i in lst:\n",
    "        y=len(i)\n",
    "        lst_len.append(y)\n",
    "    p=lst_len.index(max(lst_len))\n",
    "    q=lst[p]\n",
    "    return q"
   ]
  },
  {
   "cell_type": "code",
   "execution_count": 262,
   "metadata": {},
   "outputs": [
    {
     "name": "stdout",
     "output_type": "stream",
     "text": [
      "Hildesheim\n"
     ]
    }
   ],
   "source": [
    "y=longestWord(lst)\n",
    "print(y)"
   ]
  },
  {
   "cell_type": "markdown",
   "metadata": {},
   "source": [
    "Using dictionary to find longest word"
   ]
  },
  {
   "cell_type": "code",
   "execution_count": 263,
   "metadata": {},
   "outputs": [],
   "source": [
    "lst=[\"Munich\",\"Berlin\",\"Stuttgart\",\"Hildesheim\"]\n",
    "def longestWord(lst):\n",
    "    d=dict()\n",
    "    for i in lst:\n",
    "        d[i]=len(i)\n",
    "    key_max=max(d, key=lambda k: d[k])\n",
    "    return(key_max)"
   ]
  },
  {
   "cell_type": "code",
   "execution_count": 264,
   "metadata": {},
   "outputs": [
    {
     "name": "stdout",
     "output_type": "stream",
     "text": [
      "Hildesheim\n"
     ]
    }
   ],
   "source": [
    "y=longestWord(lst)\n",
    "print(y)"
   ]
  },
  {
   "cell_type": "markdown",
   "metadata": {},
   "source": [
    "# Task 2:"
   ]
  },
  {
   "cell_type": "markdown",
   "metadata": {},
   "source": [
    "# 1.1 Write a Python Program(with class concepts) to find the area of the triangle using the below formula. area = (s*(s-a)*(s-b)*(s-c)) ** 0.5\n",
    "Function to take the length of the sides of triangle from user should be defined in the parent class and function to calculate the area should be defined in subclass."
   ]
  },
  {
   "cell_type": "markdown",
   "metadata": {},
   "source": [
    "### In this problem, we need to implement Composition since it suggests HAS A relationship i.e., a Triangle has as Area. \n",
    "### It's not a case of Inheritance because a triangle is not an area or vice-versa."
   ]
  },
  {
   "cell_type": "code",
   "execution_count": 265,
   "metadata": {},
   "outputs": [],
   "source": [
    "class Area:\n",
    "    def __init__(self,a,b,c):\n",
    "        self.a=a\n",
    "        self.b=b\n",
    "        self.c=c\n",
    "    def calculate_area(self):\n",
    "        s=(self.a + self.b + self.c)/2\n",
    "        A=(s*(s-a)*(s-b)*(s-c))** (0.5)\n",
    "        return A"
   ]
  },
  {
   "cell_type": "code",
   "execution_count": 266,
   "metadata": {},
   "outputs": [],
   "source": [
    "class Triangle:\n",
    "    def __init__(self,a,b,c):\n",
    "        self.obj_area=Area(a,b,c) \n",
    "        self.ar=self.obj_area.calculate_area()\n",
    "    def display_area(self):\n",
    "        return self.ar"
   ]
  },
  {
   "cell_type": "code",
   "execution_count": 267,
   "metadata": {},
   "outputs": [
    {
     "name": "stdout",
     "output_type": "stream",
     "text": [
      "Enter 1st side: 3\n",
      "Enter 2nd side: 4\n",
      "Enter 3rd side: 5\n",
      "Area of the triangle is 6.0 sq units\n"
     ]
    }
   ],
   "source": [
    "a=int(input(\"Enter 1st side: \"))\n",
    "b=int(input(\"Enter 2nd side: \"))\n",
    "c=int(input(\"Enter 3rd side: \"))\n",
    "t=Triangle(a,b,c)\n",
    "print(f'Area of the triangle is {t.display_area()} sq units')"
   ]
  },
  {
   "cell_type": "markdown",
   "metadata": {},
   "source": [
    "# 1.2 Write a function filter_long_words() that takes a list of words and an integer n and returns the list of words that are longer than n."
   ]
  },
  {
   "cell_type": "code",
   "execution_count": 268,
   "metadata": {},
   "outputs": [],
   "source": [
    "lst=[\"Switzerland\",\"London\",\"Germany\",\"India\",\"UK\"]\n",
    "n=5\n",
    "def filter_long_words(lst,n):\n",
    "    lst_len=[]\n",
    "    for i in lst:\n",
    "        y=len(i)\n",
    "        if y > n:\n",
    "            lst_len.append(i)\n",
    "    return lst_len   "
   ]
  },
  {
   "cell_type": "code",
   "execution_count": 269,
   "metadata": {},
   "outputs": [
    {
     "name": "stdout",
     "output_type": "stream",
     "text": [
      "['Switzerland', 'London', 'Germany']\n"
     ]
    }
   ],
   "source": [
    "y=filter_long_words(lst,n)\n",
    "print(y)"
   ]
  },
  {
   "cell_type": "markdown",
   "metadata": {},
   "source": [
    "# 1.3 Write a Python program using function concept that maps list of words into a list of integers representing the lengths of the corresponding words. Hint: If a list [ ab,cde,erty] is passed on to the python function output should come as [2,3,4] Here 2,3 and 4 are the lengths of the words in the list."
   ]
  },
  {
   "cell_type": "code",
   "execution_count": 270,
   "metadata": {},
   "outputs": [],
   "source": [
    "lst=[\"Munich\",\"Berlin\",\"Stuttgart\",\"Hildesheim\"]\n",
    "def length_list(lst):\n",
    "    d=dict()\n",
    "    for i in lst:\n",
    "        d[i]=len(i)\n",
    "    lst_len=[]\n",
    "    for value in d.values():\n",
    "        lst_len.append(value)\n",
    "    return(lst_len)"
   ]
  },
  {
   "cell_type": "code",
   "execution_count": 271,
   "metadata": {},
   "outputs": [
    {
     "name": "stdout",
     "output_type": "stream",
     "text": [
      "[6, 6, 9, 10]\n"
     ]
    }
   ],
   "source": [
    "y=length_list(lst)\n",
    "print(y)"
   ]
  },
  {
   "cell_type": "markdown",
   "metadata": {},
   "source": [
    "# 1.4 Write a Python function which takes a character (i.e. a string of length 1) and returns True if it is a vowel, False otherwise."
   ]
  },
  {
   "cell_type": "code",
   "execution_count": 272,
   "metadata": {},
   "outputs": [],
   "source": [
    "def vowel_check(ch):\n",
    "    if ch in ['a','e','i','o','u']:\n",
    "        return True\n",
    "    else:\n",
    "        return False"
   ]
  },
  {
   "cell_type": "code",
   "execution_count": 273,
   "metadata": {},
   "outputs": [
    {
     "name": "stdout",
     "output_type": "stream",
     "text": [
      "Enter a character: p\n"
     ]
    },
    {
     "data": {
      "text/plain": [
       "False"
      ]
     },
     "execution_count": 273,
     "metadata": {},
     "output_type": "execute_result"
    }
   ],
   "source": [
    "ch=input(\"Enter a character: \")\n",
    "vowel_check(ch)"
   ]
  }
 ],
 "metadata": {
  "kernelspec": {
   "display_name": "Python 3",
   "language": "python",
   "name": "python3"
  },
  "language_info": {
   "codemirror_mode": {
    "name": "ipython",
    "version": 3
   },
   "file_extension": ".py",
   "mimetype": "text/x-python",
   "name": "python",
   "nbconvert_exporter": "python",
   "pygments_lexer": "ipython3",
   "version": "3.6.4"
  }
 },
 "nbformat": 4,
 "nbformat_minor": 2
}
